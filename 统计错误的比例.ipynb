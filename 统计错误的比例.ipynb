{
 "cells": [
  {
   "cell_type": "code",
   "execution_count": 1,
   "metadata": {
    "collapsed": true
   },
   "outputs": [],
   "source": [
    "#!/usr/bin/env python\n",
    "#-*-coding:utf-8-*-\n",
    "# Author:kyla\n",
    "# Created time:2017-12-04 8:51:00"
   ]
  },
  {
   "cell_type": "code",
   "execution_count": 2,
   "metadata": {
    "collapsed": true
   },
   "outputs": [],
   "source": [
    "import codecs"
   ]
  },
  {
   "cell_type": "code",
   "execution_count": 22,
   "metadata": {},
   "outputs": [],
   "source": [
    "def entity_dict(filename):\n",
    "    data_entities = {}\n",
    "    entity = ''\n",
    "    with codecs.open(filename, 'r', 'utf-8') as fr:\n",
    "        for line in fr:\n",
    "            inputs = line.strip().split()\n",
    "            if len(inputs) < 3:\n",
    "                continue\n",
    "            if inputs[-1] == 'O':\n",
    "                continue\n",
    "            else:\n",
    "                if inputs[-1] == 'E-ORG' or inputs[-1] == 'S-ORG':\n",
    "                    entity += inputs[0]\n",
    "                    if entity not in data_entities:\n",
    "                        data_entities[entity] = len(data_entities)\n",
    "                    entity = ''\n",
    "                else:\n",
    "                    entity += inputs[0]\n",
    "    return data_entities\n",
    "\n",
    "            "
   ]
  },
  {
   "cell_type": "code",
   "execution_count": 29,
   "metadata": {},
   "outputs": [],
   "source": [
    "train_entities = entity_dict('./train_after.txt')\n",
    "dev_entities = entity_dict('./dev_after.txt')\n",
    "test_entities = entity_dict('./test_after.txt')"
   ]
  },
  {
   "cell_type": "code",
   "execution_count": 26,
   "metadata": {},
   "outputs": [
    {
     "data": {
      "text/plain": [
       "3811"
      ]
     },
     "execution_count": 26,
     "metadata": {},
     "output_type": "execute_result"
    }
   ],
   "source": [
    "len(train_entities)"
   ]
  },
  {
   "cell_type": "code",
   "execution_count": 30,
   "metadata": {},
   "outputs": [
    {
     "data": {
      "text/plain": [
       "1641"
      ]
     },
     "execution_count": 30,
     "metadata": {},
     "output_type": "execute_result"
    }
   ],
   "source": [
    "len(dev_entities)"
   ]
  },
  {
   "cell_type": "code",
   "execution_count": 28,
   "metadata": {},
   "outputs": [
    {
     "data": {
      "text/plain": [
       "1657"
      ]
     },
     "execution_count": 28,
     "metadata": {},
     "output_type": "execute_result"
    }
   ],
   "source": [
    "len(test_entities)"
   ]
  },
  {
   "cell_type": "code",
   "execution_count": 31,
   "metadata": {
    "collapsed": true
   },
   "outputs": [],
   "source": [
    "# the numbers of devset entity not in trainset\n",
    "dev_count = 0\n",
    "for entity in dev_entities.keys():\n",
    "    if entity not in train_entities:\n",
    "        dev_count += 1"
   ]
  },
  {
   "cell_type": "code",
   "execution_count": 32,
   "metadata": {},
   "outputs": [
    {
     "data": {
      "text/plain": [
       "625"
      ]
     },
     "execution_count": 32,
     "metadata": {},
     "output_type": "execute_result"
    }
   ],
   "source": [
    "dev_count"
   ]
  },
  {
   "cell_type": "code",
   "execution_count": 33,
   "metadata": {
    "collapsed": true
   },
   "outputs": [],
   "source": [
    "# the numbers of testset entity not in trainset\n",
    "test_count = 0\n",
    "for entity in test_entities.keys():\n",
    "    if entity not in train_entities:\n",
    "        test_count += 1"
   ]
  },
  {
   "cell_type": "code",
   "execution_count": 34,
   "metadata": {},
   "outputs": [
    {
     "data": {
      "text/plain": [
       "575"
      ]
     },
     "execution_count": 34,
     "metadata": {},
     "output_type": "execute_result"
    }
   ],
   "source": [
    "test_count"
   ]
  },
  {
   "cell_type": "code",
   "execution_count": 43,
   "metadata": {
    "collapsed": true
   },
   "outputs": [],
   "source": [
    "# wrong predict entities\n",
    "error_entities = {}\n",
    "entity = ''\n",
    "cnt = 0\n",
    "with codecs.open('./eval.1900817.output', 'r', 'utf-8') as fr:\n",
    "    for line in fr:\n",
    "        inputs = line.strip().split()\n",
    "        if len(inputs) < 4:\n",
    "            continue\n",
    "        if inputs[-2] == 'O':\n",
    "            continue\n",
    "        if inputs[-2] == 'B-ORG':\n",
    "            if entity != '' and cnt > 0: \n",
    "                error_entities[entity] = len(error_entities)\n",
    "            entity, cnt = '', 0\n",
    "        entity += inputs[0]\n",
    "        if inputs[-2] != inputs[-1]:\n",
    "            cnt += 1\n",
    "        \n",
    "        "
   ]
  },
  {
   "cell_type": "code",
   "execution_count": 44,
   "metadata": {},
   "outputs": [
    {
     "data": {
      "text/plain": [
       "225"
      ]
     },
     "execution_count": 44,
     "metadata": {},
     "output_type": "execute_result"
    }
   ],
   "source": [
    "len(error_entities)"
   ]
  },
  {
   "cell_type": "code",
   "execution_count": 45,
   "metadata": {},
   "outputs": [
    {
     "name": "stdout",
     "output_type": "stream",
     "text": [
      "大掌门\n",
      "云端时代\n",
      "首都在线\n",
      "新能源公司\n",
      "ShopRunner\n",
      "游戏多\n",
      "当代东方\n",
      "口袋购物\n",
      "纪源资\n",
      "Same\n",
      "新安乃达驱动技术上海股份有限公司\n",
      "有料网\n",
      "居乐屋\n",
      "17互助\n",
      "Group\n",
      "极牛\n",
      "一搜\n",
      "红杉资本全球资产公司\n",
      "咏声文化\n",
      "LonePineCapitalLLCandaffiliate\n",
      "软控股份\n",
      "盛利维尔有限注册资本\n",
      "韩束\n",
      "阿波斯\n",
      "转转\n",
      "赛顿\n",
      "创东方\n",
      "国泰君安证券股份有限公司\n",
      "aruba\n",
      "长安\n",
      "宜信\n",
      "韩国爱茉莉太平洋\n",
      "易居\n",
      "电动汽车充电联盟\n",
      "锐捷\n",
      "LioneldeSaint\n",
      "简一大理石瓷砖\n",
      "民生控股\n",
      "憨豆先生\n",
      "中银泰国\n",
      "人寿\n",
      "找塑料网\n",
      "国科恒泰（北京）医疗科技有限公司\n",
      "st湘鄂债\n",
      "太阳鸟\n",
      "资本国际私募基金\n",
      "千鲜汇连锁\n",
      "申万宏源\n",
      "舞之数码动画\n",
      "树熊网络\n",
      "i黑马每日投融资速递\n",
      "金司南\n",
      "国海证券\n",
      "中通黄海客车\n",
      "中国国际航空公司\n",
      "VFineStudio\n",
      "273二手车交易网\n",
      "日本动漫联合社\n",
      "商契九鼎投资中心\n",
      "多贝网\n",
      "VipshopHoldingsLtd\n",
      "华登国际投资\n",
      "慧捷通\n",
      "梅花天使\n",
      "特维轮网络科技(杭州)有限公司\n",
      "特维轮网络科技\n",
      "chec\n",
      "汉洁\n",
      "零派乐享\n",
      "顺丰速运\n",
      "宏基技术投资\n",
      "轨交\n",
      "起点创业营\n",
      "广东江山酒店公寓管理公益会\n",
      "湘鄂债\n",
      "东方低碳\n",
      "易明医药\n",
      "Greylock\n",
      "奥飞动漫\n",
      "法国欧莱雅\n",
      "新东方满天星\n",
      "元璟资本\n",
      "红孩子\n",
      "Gartner\n",
      "神州云动商学院\n",
      "广汽\n",
      "轻客智能科技\n",
      "中投\n",
      "粤新水处理\n",
      "万达院线\n",
      "same\n",
      "深圳高新投\n",
      "台湾鸿海精密工业\n",
      "鑫融基\n",
      "汉森投资\n",
      "中国外运长航集团有限公司\n",
      "腾讯儿童\n",
      "斗鱼\n",
      "美国中经合集团\n",
      "淘宝旅行\n",
      "魔力象限\n",
      "北京麦健陆公司\n",
      "京东智能\n",
      "faceu\n",
      "成信绿集成\n",
      "中信未来投资\n",
      "二兔邮包\n",
      "安邦\n",
      "中科云网科技集团股份有限公司\n",
      "中科汇通（深圳）股权投资基金有限公司\n",
      "daliansinocloudfusionnetworkco\n",
      "淡水泉\n",
      "视觉码\n",
      "Horowitz\n",
      "UMC\n",
      "中豪\n",
      "安徽农业机械制造\n",
      "FMRLLCandaffiliate\n",
      "大粤网\n",
      "亚太（集团）\n",
      "North\n",
      "闲鱼\n",
      "尚童\n",
      "科陆电子\n",
      "安捷\n",
      "滴滴快的公司\n",
      "DraperFisherJurvetson\n",
      "恋爱指南\n",
      "TripHobo\n",
      "大掌柜\n",
      "信谊包装\n",
      "PingWest\n",
      "高新投\n",
      "中国银行\n",
      "到喜啦\n",
      "考拉先生\n",
      "肯特\n",
      "超级表格\n",
      "俄罗斯DST集团\n",
      "太阳雨\n",
      "厚德文华\n",
      "香港佰瑞\n",
      "奥康\n",
      "林肯工业\n",
      "3721\n",
      "特变电工\n",
      "车联网\n",
      "beijingcloudcccomtechnologyco\n",
      "鼎聚创新公司\n",
      "华网电售\n",
      "中海纪元\n",
      "易名中国\n",
      "依图\n",
      "创客贴\n",
      "世界银行集团国际金融公司\n",
      "中复连众\n",
      "第一创业证券股份有限公司\n",
      "联邦快递\n",
      "华南云数据中心\n",
      "日本资生堂\n",
      "美国雅诗兰黛\n",
      "歌斐资产\n",
      "中国对外经济贸易信托有限公司\n",
      "CJ\n",
      "欧派\n",
      "美国TheInformation\n",
      "车和家\n",
      "大姨吗\n",
      "Pivotal\n",
      "文化中国\n",
      "Okta\n",
      "第一创业\n",
      "加菲猫\n",
      "俄罗斯数码天空科技\n",
      "每日每加\n",
      "西安风电设备股份有限公司\n",
      "英国itv\n",
      "天地汇\n",
      "国泰君安\n",
      "品玩\n",
      "国润创投\n",
      "美的\n",
      "快播\n",
      "大众点评\n",
      "AB1\n",
      "新浪微博\n",
      "金凤凰\n",
      "合生创展\n",
      "加拿大养老金计划投资委员会\n",
      "海联讯\n",
      "美金资本\n",
      "上海证券\n",
      "中国玻纤控股子公司\n",
      "智慧石油\n",
      "特变电工新疆新能源股份有限公司\n",
      "美国众创空间创业公司\n",
      "上海千集网络\n",
      "中国WeWork\n",
      "小音咖\n",
      "久联发展\n",
      "奥林科技（宁波）有限公司\n",
      "中国手游\n",
      "微菜单\n",
      "爱瑟菲\n",
      "贵绳股份\n",
      "平安中国资产管理(香港)\n",
      "汽车之家\n",
      "张化机\n",
      "光宝联合\n",
      "金华佗\n",
      "联创\n",
      "法国达高集团\n",
      "神州云动\n",
      "国信弘盛投资\n",
      "中核华原钛白股份有限公司\n",
      "老娘舅食品\n",
      "虎牙直播\n",
      "跟谁学\n",
      "棕泉资本管理\n",
      "高特佳前海优享\n",
      "蓝湖资本投资\n",
      "奥林科技公司\n",
      "三星电子\n",
      "丽维家\n",
      "BesTVOnline(Cayman)Limited\n"
     ]
    }
   ],
   "source": [
    "for x in error_entities.keys():\n",
    "    print x"
   ]
  },
  {
   "cell_type": "code",
   "execution_count": 46,
   "metadata": {
    "collapsed": true
   },
   "outputs": [],
   "source": [
    "error_cnt = 0\n",
    "for entity in error_entities.keys():\n",
    "    if entity not in train_entities:\n",
    "        error_cnt += 1\n",
    "        "
   ]
  },
  {
   "cell_type": "code",
   "execution_count": 47,
   "metadata": {},
   "outputs": [
    {
     "name": "stdout",
     "output_type": "stream",
     "text": [
      "163\n"
     ]
    }
   ],
   "source": [
    "print error_cnt"
   ]
  },
  {
   "cell_type": "code",
   "execution_count": 48,
   "metadata": {},
   "outputs": [
    {
     "name": "stdout",
     "output_type": "stream",
     "text": [
      "大掌门\n",
      "云端时代\n",
      "ShopRunner\n",
      "游戏多\n",
      "口袋购物\n",
      "Group\n",
      "极牛\n",
      "一搜\n",
      "软控股份\n",
      "创东方\n",
      "宜信\n",
      "电动汽车充电联盟\n",
      "树熊网络\n",
      "VFineStudio\n",
      "华登国际投资\n",
      "特维轮网络科技(杭州)有限公司\n",
      "特维轮网络科技\n",
      "chec\n",
      "顺丰速运\n",
      "奥飞动漫\n",
      "新东方满天星\n",
      "元璟资本\n",
      "红孩子\n",
      "Gartner\n",
      "中投\n",
      "万达院线\n",
      "鑫融基\n",
      "汉森投资\n",
      "斗鱼\n",
      "美国中经合集团\n",
      "淘宝旅行\n",
      "中科汇通（深圳）股权投资基金有限公司\n",
      "视觉码\n",
      "安徽农业机械制造\n",
      "DraperFisherJurvetson\n",
      "大掌柜\n",
      "到喜啦\n",
      "超级表格\n",
      "3721\n",
      "特变电工\n",
      "车联网\n",
      "依图\n",
      "中复连众\n",
      "歌斐资产\n",
      "车和家\n",
      "大姨吗\n",
      "文化中国\n",
      "国泰君安\n",
      "国润创投\n",
      "美的\n",
      "大众点评\n",
      "新浪微博\n",
      "海联讯\n",
      "上海证券\n",
      "中国WeWork\n",
      "奥林科技（宁波）有限公司\n",
      "中国手游\n",
      "张化机\n",
      "联创\n",
      "奥林科技公司\n",
      "三星电子\n",
      "丽维家\n"
     ]
    }
   ],
   "source": [
    "for entity in error_entities.keys():\n",
    "    if entity in train_entities:\n",
    "        print entity"
   ]
  },
  {
   "cell_type": "code",
   "execution_count": 51,
   "metadata": {},
   "outputs": [
    {
     "data": {
      "text/plain": [
       "0.13578756789378393"
      ]
     },
     "execution_count": 51,
     "metadata": {},
     "output_type": "execute_result"
    }
   ],
   "source": [
    "len(error_entities) / float(len(test_entities))"
   ]
  },
  {
   "cell_type": "code",
   "execution_count": 52,
   "metadata": {},
   "outputs": [
    {
     "data": {
      "text/plain": [
       "0.28347826086956524"
      ]
     },
     "execution_count": 52,
     "metadata": {},
     "output_type": "execute_result"
    }
   ],
   "source": [
    "error_cnt / float(test_count)"
   ]
  },
  {
   "cell_type": "code",
   "execution_count": 53,
   "metadata": {},
   "outputs": [
    {
     "data": {
      "text/plain": [
       "0.34701267350633674"
      ]
     },
     "execution_count": 53,
     "metadata": {},
     "output_type": "execute_result"
    }
   ],
   "source": [
    "float(test_count) / len(test_entities)"
   ]
  },
  {
   "cell_type": "code",
   "execution_count": 56,
   "metadata": {},
   "outputs": [
    {
     "data": {
      "text/plain": [
       "0.7244444444444444"
      ]
     },
     "execution_count": 56,
     "metadata": {},
     "output_type": "execute_result"
    }
   ],
   "source": [
    "float(163) / len(error_entities)"
   ]
  },
  {
   "cell_type": "code",
   "execution_count": null,
   "metadata": {
    "collapsed": true
   },
   "outputs": [],
   "source": []
  }
 ],
 "metadata": {
  "kernelspec": {
   "display_name": "Python 2",
   "language": "python",
   "name": "python2"
  },
  "language_info": {
   "codemirror_mode": {
    "name": "ipython",
    "version": 2
   },
   "file_extension": ".py",
   "mimetype": "text/x-python",
   "name": "python",
   "nbconvert_exporter": "python",
   "pygments_lexer": "ipython2",
   "version": "2.7.9"
  }
 },
 "nbformat": 4,
 "nbformat_minor": 2
}
