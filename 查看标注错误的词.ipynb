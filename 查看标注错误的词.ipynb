{
 "cells": [
  {
   "cell_type": "code",
   "execution_count": 1,
   "metadata": {
    "collapsed": true
   },
   "outputs": [],
   "source": [
    "#!/usr/bin/env python\n",
    "#-*-coding:utf-8-*-\n",
    "#Author:kyla\n",
    "#Created time:2017-11-27 15:18:00"
   ]
  },
  {
   "cell_type": "code",
   "execution_count": 2,
   "metadata": {
    "collapsed": true
   },
   "outputs": [],
   "source": [
    "import numpy as np\n",
    "import codecs\n",
    "from collections import defaultdict"
   ]
  },
  {
   "cell_type": "code",
   "execution_count": 3,
   "metadata": {
    "collapsed": true
   },
   "outputs": [],
   "source": [
    "infile = './eval.1900817.output'\n",
    "wrong_tags = []\n",
    "\n",
    "with codecs.open(infile, 'r', 'utf-8') as fr:\n",
    "    for line in fr:\n",
    "        inputs = line.strip().split()\n",
    "        if len(inputs) < 4:\n",
    "            continue\n",
    "        if inputs[2] != inputs[3]:\n",
    "            wrong_tags.append(' '.join(inputs))\n",
    "            \n",
    "outfile = './eval.1900817.wrong.txt'\n",
    "with codecs.open(outfile, 'w', 'utf-8') as fw:\n",
    "    fw.write('.\\n'.join(wrong_tags))"
   ]
  },
  {
   "cell_type": "code",
   "execution_count": null,
   "metadata": {
    "collapsed": true
   },
   "outputs": [],
   "source": []
  }
 ],
 "metadata": {
  "kernelspec": {
   "display_name": "Python 2",
   "language": "python",
   "name": "python2"
  },
  "language_info": {
   "codemirror_mode": {
    "name": "ipython",
    "version": 2
   },
   "file_extension": ".py",
   "mimetype": "text/x-python",
   "name": "python",
   "nbconvert_exporter": "python",
   "pygments_lexer": "ipython2",
   "version": "2.7.9"
  }
 },
 "nbformat": 4,
 "nbformat_minor": 2
}
