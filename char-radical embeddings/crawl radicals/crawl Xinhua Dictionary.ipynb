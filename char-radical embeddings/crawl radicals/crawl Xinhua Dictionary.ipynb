{
 "cells": [
  {
   "cell_type": "code",
   "execution_count": 1,
   "metadata": {
    "collapsed": true
   },
   "outputs": [],
   "source": [
    "#-*-coding:utf-8-*-\n",
    "import sys\n",
    "reload(sys)\n",
    "sys.setdefaultencoding('utf-8')\n",
    "from urllib import urlopen\n",
    "from urllib2 import HTTPError, URLError\n",
    "from bs4 import BeautifulSoup\n",
    "from Queue import Queue\n",
    "import threading\n",
    "import urllib2\n",
    "import time\n",
    "import json\n",
    "import argparse\n",
    "import logging\n",
    "import Queue\n",
    "import codecs"
   ]
  },
  {
   "cell_type": "code",
   "execution_count": 10,
   "metadata": {
    "collapsed": true
   },
   "outputs": [],
   "source": [
    "html = urllib2.urlopen('http://tool.httpcn.com/Zi/So.asp?Tid=1&wd=%s' % '袄'.encode('utf-8'), timeout=5)  \n",
    "bsObj = BeautifulSoup(html.read(), 'lxml')\n",
    "s = bsObj.findAll(\"body\")[0].get_text()\n",
    "print s"
   ]
  },
  {
   "cell_type": "code",
   "execution_count": 8,
   "metadata": {
    "collapsed": true
   },
   "outputs": [],
   "source": [
    "def get_radical(char):\n",
    "    Max_Num = 20\n",
    "    string = \"\"\n",
    "    string += char\n",
    "    \n",
    "    for i in range(Max_Num):  \n",
    "        try:  \n",
    "            html = urllib2.urlopen('http://tool.httpcn.com/Zi/So.asp?Tid=1&wd=%s' % char.encode('utf-8'), timeout=5)  \n",
    "            break  \n",
    "        except:  \n",
    "            if i < Max_Num-1:  \n",
    "                continue  \n",
    "            else:  \n",
    "                print 'URLError: <urlopen error timed out> All times is failed '\n",
    "#     try:\n",
    "#         html = urlopen('http://tool.httpcn.com/Zi/So.asp?Tid=1&wd=%s' % char.encode('utf-8'))\n",
    "#     except (HTTPError, URLError) as e:\n",
    "#         return string\n",
    "    \n",
    "    try:\n",
    "        bsObj = BeautifulSoup(html.read(), 'lxml')\n",
    "        s = bsObj.findAll(\"body\")[0].get_text()\n",
    "        print s\n",
    "        if '简体部首' in s:\n",
    "            string += '|' + s[s.index('简体部首') + 5]\n",
    "            string += '|' + s[s.index('繁体部首') + 5]\n",
    "        elif '部首' in s:\n",
    "            string += '|' + s[s.index('部首') + 3]\n",
    "            string += '|' + ' '\n",
    "        else:\n",
    "            string += '|' + ' ' + '|' + ' '\n",
    "            \n",
    "        if '[ 汉字部件构造 ]' in s:\n",
    "            string += '|' + s[s.index('[ 汉字部件构造 ]') + 11 : s.index('[ 笔顺编号 ]') - 1]\n",
    "        else:\n",
    "            string += '|' + ' '\n",
    "        \n",
    "            \n",
    "    except AttributeError as e:\n",
    "        print \"AttributeError\"\n",
    "        return char\n",
    "    \n",
    "    return string\n",
    "    \n",
    "\n"
   ]
  },
  {
   "cell_type": "code",
   "execution_count": null,
   "metadata": {
    "collapsed": true
   },
   "outputs": [],
   "source": [
    "infile = '/Users/wangwenhui/Desktop/论文/NER/FOFE+char_embeddings+radical embeddings'\n",
    "fr = codecs.open(infile + '/数据/character_set.txt', 'r', encoding= 'utf-8')\n",
    "fw = codecs.open(infile + '/数据/char_radical.txt', 'w', encoding= 'utf-8')\n",
    "for line in fr.readlines():\n",
    "    char = line.strip()\n",
    "    print \"char:\", char\n",
    "    if char >= u'\\u4e00' and char<=u'\\u9fa5':\n",
    "        string = get_radical(char)\n",
    "        fw.write(string + '\\n')\n",
    "\n",
    "fr.close()\n",
    "fw.close()\n"
   ]
  },
  {
   "cell_type": "code",
   "execution_count": 3,
   "metadata": {},
   "outputs": [
    {
     "ename": "AttributeError",
     "evalue": "'set' object has no attribute 'append'",
     "output_type": "error",
     "traceback": [
      "\u001b[0;31m-----------------------------------------------------------------------\u001b[0m",
      "\u001b[0;31mAttributeError\u001b[0m                        Traceback (most recent call last)",
      "\u001b[0;32m<ipython-input-3-bb9d21b8a0fb>\u001b[0m in \u001b[0;36m<module>\u001b[0;34m()\u001b[0m\n\u001b[1;32m      3\u001b[0m \u001b[0mcharSet\u001b[0m \u001b[0;34m=\u001b[0m \u001b[0mset\u001b[0m\u001b[0;34m(\u001b[0m\u001b[0;34m)\u001b[0m\u001b[0;34m\u001b[0m\u001b[0m\n\u001b[1;32m      4\u001b[0m \u001b[0;32mfor\u001b[0m \u001b[0mline\u001b[0m \u001b[0;32min\u001b[0m \u001b[0mfr1\u001b[0m\u001b[0;34m.\u001b[0m\u001b[0mreadlines\u001b[0m\u001b[0;34m(\u001b[0m\u001b[0;34m)\u001b[0m\u001b[0;34m:\u001b[0m\u001b[0;34m\u001b[0m\u001b[0m\n\u001b[0;32m----> 5\u001b[0;31m     \u001b[0mcharSet\u001b[0m\u001b[0;34m.\u001b[0m\u001b[0mappend\u001b[0m\u001b[0;34m(\u001b[0m\u001b[0mline\u001b[0m\u001b[0;34m.\u001b[0m\u001b[0mstrip\u001b[0m\u001b[0;34m(\u001b[0m\u001b[0;34m)\u001b[0m\u001b[0;34m)\u001b[0m\u001b[0;34m\u001b[0m\u001b[0m\n\u001b[0m\u001b[1;32m      6\u001b[0m \u001b[0mfr1\u001b[0m\u001b[0;34m.\u001b[0m\u001b[0mclose\u001b[0m\u001b[0;34m(\u001b[0m\u001b[0;34m)\u001b[0m\u001b[0;34m\u001b[0m\u001b[0m\n\u001b[1;32m      7\u001b[0m \u001b[0;34m\u001b[0m\u001b[0m\n",
      "\u001b[0;31mAttributeError\u001b[0m: 'set' object has no attribute 'append'"
     ]
    }
   ],
   "source": [
    "infile = '/Users/wangwenhui/Desktop/论文/NER/FOFE+char_embeddings+radical embeddings'\n",
    "fr1 = codecs.open(infile + '/数据/character_set.txt', 'r', encoding= 'utf-8')\n",
    "charList = []\n",
    "for line in fr1.readlines():\n",
    "    charList.append(line.strip())\n",
    "fr1.close()\n",
    "charSet = set(charLt)\n",
    "\n",
    "fr2 = codecs.open(infile + '/数据/output.txt', 'r', encoding= 'utf-8')\n",
    "radicalSet = []\n",
    "for line in fr2.readlines():\n",
    "    radicalSet.append(line.strip('|')[0])\n",
    "fr2.close()\n",
    "radicalSet = set\n"
   ]
  },
  {
   "cell_type": "code",
   "execution_count": null,
   "metadata": {
    "collapsed": true
   },
   "outputs": [],
   "source": []
  }
 ],
 "metadata": {
  "kernelspec": {
   "display_name": "Python 2",
   "language": "python",
   "name": "python2"
  },
  "language_info": {
   "codemirror_mode": {
    "name": "ipython",
    "version": 2
   },
   "file_extension": ".py",
   "mimetype": "text/x-python",
   "name": "python",
   "nbconvert_exporter": "python",
   "pygments_lexer": "ipython2",
   "version": "2.7.13"
  }
 },
 "nbformat": 4,
 "nbformat_minor": 2
}
