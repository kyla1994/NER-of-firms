{
 "cells": [
  {
   "cell_type": "code",
   "execution_count": 1,
   "metadata": {
    "collapsed": true
   },
   "outputs": [],
   "source": [
    "#-*-coding:utf-8-*-\n",
    "import codecs\n",
    "import sys\n",
    "reload(sys)\n",
    "sys.setdefaultencoding('utf-8')\n",
    "import re"
   ]
  },
  {
   "cell_type": "code",
   "execution_count": 10,
   "metadata": {},
   "outputs": [],
   "source": [
    "#将偏旁的输出文件以字典的方式呈现\n",
    "infile = '/Users/wangwenhui/Desktop/论文/NER/FOFE_charembeddings_radicalembeddings/数据/偏旁output.txt'\n",
    "fr = codecs.open(infile, 'r', encoding= 'utf-8')\n",
    "\n",
    "component = {}\n",
    "\n",
    "for line in fr.readlines():\n",
    "    currList = line.strip().split(':') \n",
    "    \n",
    "    if len(currList) < 2:\n",
    "        continue\n",
    "    # radical\n",
    "    if not currList[2].isspace(): # fan_radical\n",
    "        char = currList[0].decode('utf-8')\n",
    "        component[char] = []\n",
    "        component[char].append(currList[2])\n",
    "    elif not currList[1].isspace(): # jian_radical\n",
    "        char = currList[0].decode('utf-8')\n",
    "        component[char] = []\n",
    "        component[char].append(currList[1])\n",
    "    else: # has not heen searched!\n",
    "        continue\n",
    "     \n",
    "    #pianpang\n",
    "    if char == currList[1]:\n",
    "        component[char].append(char)\n",
    "        component[char].append(char)\n",
    "        continue\n",
    "        \n",
    "    if currList[-1].find('(') == -1: \n",
    "        component[char].append(currList[1])\n",
    "        t = ' '.join(currList[-1]).split() #汉字部件构造\n",
    "        component[char].append(t)\n",
    "\n",
    "    else: #首尾分解查字\n",
    "        component[char].append(currList[1])\n",
    "        pos = currList[-1].find('(')\n",
    "        t = ' '.join(currList[-1][:pos]).split()\n",
    "#         if len(t) > 1:\n",
    "#             if t[0] in [currList[1], currList[2]]:\n",
    "#                 component[currList[0].decode('utf-8')].append(t)\n",
    "                \n",
    "#             elif t[1] in [currList[1], currList[2]]:\n",
    "#                 component[currList[0].decode('utf-8')].append(t)\n",
    "            \n",
    "#         else:\n",
    "        component[currList[0].decode('utf-8')].append(t)\n",
    "           \n",
    "\n",
    "fr.close()"
   ]
  },
  {
   "cell_type": "code",
   "execution_count": 11,
   "metadata": {},
   "outputs": [],
   "source": [
    "#对于“首尾分解查字”这种情况，将非偏旁部分替换\n",
    "for k, v in component.iteritems():\n",
    "    print 'NO!', k, v\n",
    "    if len(v[2]) == 2:\n",
    "        print k, len(v[2])\n",
    "        if v[2][0] != v[1] and v[2][0] in component:\n",
    "            print '0'\n",
    "            t = v[2][0]\n",
    "            component[k][2].remove(t)\n",
    "            component[k][2].insert(0, ' '.join(component[t][2]))\n",
    "        if v[2][1] != v[1] and v[2][1] in component:\n",
    "            print '1'\n",
    "            p = component[k][2].pop()\n",
    "            component[k][2].extend(component[p][2])\n",
    "   "
   ]
  },
  {
   "cell_type": "code",
   "execution_count": 12,
   "metadata": {
    "collapsed": true
   },
   "outputs": [],
   "source": [
    "#radical是简体字\n",
    "outfile = '/Users/wangwenhui/Desktop/论文/NER/FOFE_charembeddings_radicalembeddings/数据/简体偏旁processed_output.txt'\n",
    "fw = codecs.open(outfile, 'w', encoding= 'utf-8')\n",
    "for k, v in component.iteritems():\n",
    "    print v\n",
    "    string = k\n",
    "    string += ':' + v[0]\n",
    "    if len(v) > 2:\n",
    "        string += ':' + ' '.join(v[2])\n",
    "    else:\n",
    "        string += ':' + v[0]\n",
    "    fw.write(string + '\\n')\n",
    "fw.close()"
   ]
  },
  {
   "cell_type": "code",
   "execution_count": 14,
   "metadata": {},
   "outputs": [],
   "source": [
    "#radical是繁体字\n",
    "outfile = '/Users/wangwenhui/Desktop/论文/NER/FOFE_charembeddings_radicalembeddings/数据/繁体偏旁processed_output.txt'\n",
    "fw = codecs.open(outfile, 'w', encoding= 'utf-8')\n",
    "for k, v in component.iteritems():\n",
    "    print k, v\n",
    "    string = k\n",
    "    string += ':' + v[0]\n",
    "    if len(v) > 2 and len(v[2]) > 1:\n",
    "        for i, x in enumerate(v[2]):\n",
    "            if x == v[1]:\n",
    "                v[2][i] = v[0] \n",
    "        string += ':' + ' '.join(v[2])\n",
    "    else:\n",
    "        string += ':' + v[0]\n",
    "    fw.write(string + '\\n')\n",
    "fw.close()"
   ]
  },
  {
   "cell_type": "code",
   "execution_count": null,
   "metadata": {
    "collapsed": true
   },
   "outputs": [],
   "source": []
  }
 ],
 "metadata": {
  "kernelspec": {
   "display_name": "Python 2",
   "language": "python",
   "name": "python2"
  },
  "language_info": {
   "codemirror_mode": {
    "name": "ipython",
    "version": 2
   },
   "file_extension": ".py",
   "mimetype": "text/x-python",
   "name": "python",
   "nbconvert_exporter": "python",
   "pygments_lexer": "ipython2",
   "version": "2.7.13"
  }
 },
 "nbformat": 4,
 "nbformat_minor": 2
}
